{
 "cells": [
  {
   "cell_type": "markdown",
   "id": "11d8bfa7-8b0d-4075-b585-6f74dafeb1c2",
   "metadata": {},
   "source": [
    "# Fluorescence Spectra Viewer\n",
    "\n",
    "This notebook shows how to create a basic **fluorescence spectra viewer**. For more complex visualizations, use one of the listed online spectra viewers.\n",
    "\n",
    "## Introduction\n",
    "\n",
    "Labeling and visualizing cells and molecules with [fluorescent proteins](http://www.scholarpedia.org/article/Fluorescent_proteins) is one of the most common approaches in modern neuroscience to study the nervous system. Other techniques like [optogenetics](https://spikesandbursts.wordpress.com/2018/07/24/optogenetics-as-a-candle-in-the-brain/) use light-sensitive proteins that respond to specific wavelengths, allowing scientists to manipulate neuronal activity. All these techniques require the proper selection of light sources and microscope filters to match the optimal excitation and emission properties of the fluorescent or light-sensitive proteins. Although there are many nuances, one way to select the correct setup is to plot the **fluorescence spectra** of our protein of interest together with the available light sources and filters in the laboratory.\n",
    "\n",
    "## Fluorescent Proteins\n",
    "\n",
    "Fluorescent proteins started to become widely used in neuroscience thanks to the engineering of the green fluorescent protein (GFP) in the 1990s by several groups, including Roger Tsien, Osamu Shinomura, and Martin Chalfie, who were awarded the Nobel Prize in 2008 for the discovery and development of GFP. Nowadays, there are hundreds of available fluorescent proteins (see [FPbase](https://www.fpbase.org/)) used for labeling or as part of other biosensors such as [calcium indicators](https://www.nature.com/articles/s41586-023-05828-9), [optogenetics](https://spikesandbursts.wordpress.com/2018/07/24/optogenetics-as-a-candle-in-the-brain/), [voltage indicators](https://spikesandbursts.wordpress.com/2018/11/06/voltage-imaging-to-record-them-all/), [DREADDs](https://www.ncbi.nlm.nih.gov/pmc/articles/PMC4759656/), and [GRAB sensors](https://www.annualreviews.org/content/journals/10.1146/annurev-neuro-110520-031137), among others.\n",
    "\n",
    "* [FPbase](https://www.fpbase.org/) is one of the best open-source **fluorescent protein databases**. You can download the spectra of the proteins, explore their properties and relationships with other proteins, read the references, and access many other useful tools.\n",
    "\n",
    "## Equipment\n",
    "\n",
    "For this notebook, the two main pieces of equipment we need to consider are the light source and the filters. They are key components in the most common configuration in fluorescence microscopy: light source > excitation filter > dichroic filter (between excitation and emission filter) > emission filter > camera or detector.\n",
    "\n",
    "The **light sources** are generally lasers (1-2 nm bandwidth, more powerful, more expensive) and LEDs (wider spectral widths, less powerful, less expensive).\n",
    "\n",
    "The **optical filters** selectively transmit light at particular wavelengths. Depending on this, they can be longpass (transmit all wavelengths longer than a specific wavelength), shortpass (transmit all wavelengths shorter than a specific wavelength), or bandpass/multiband (transmit across one or more specific ranges of wavelengths). Other important properties for selecting a filter are transmission percentage (ideally >85%) and optical density (the background darkness, preferably > 3.0).\n",
    "\n",
    "* [Thorlabs](https://www.thorlabs.com/) has a lot of technical information, specifications, and performance data on both [LEDs](https://www.thorlabs.com/newgrouppage9.cfm?objectgroup_id=2692), [lasers](https://www.thorlabs.com/navigation.cfm?guide_id=31), and [optical filters](https://www.thorlabs.com/navigation.cfm?guide_id=21).\n",
    "\n",
    "## More Resources\n",
    "\n",
    "* Online spectra viewers: [ThermoFisher](https://www.thermofisher.com/order/fluorescence-spectraviewer/), [FPbase](https://www.fpbase.org/spectra/), [Chroma](https://www.chroma.com/spectra-viewer).\n",
    "* More resources (tutorials, courses, etc.): [Spikes and Bursts blog](https://spikesandbursts.wordpress.com/resources/#microscopy)."
   ]
  },
  {
   "cell_type": "markdown",
   "id": "b56dd60c-5038-49f9-8699-b0d2242e234c",
   "metadata": {},
   "source": [
    "# Example data\n",
    "\n",
    "Fluorescent protein and LED spectra, and filter bandpass data.\n",
    "\n",
    "Here are the sources of the example_data:\n",
    "\n",
    "* [mapple spectra (FPbase)](https://www.fpbase.org/spectra_csv/?q=69,70). Renamed to \"fp_spectra_mapple.csv\".\n",
    "* [EGFP spectra (FPbase)](https://www.fpbase.org/spectra_csv/?q=17,18,173). Renamed to \"fp_spectra_egfp.csv\".\n",
    "* [LED 470 nm (Thorlabs)](https://www.thorlabs.com/images/TabImages/M470L5_Data.xlsx). Renamed to \"led_spectrum_M470L5.xlsx\".\n",
    "* [LED 565 nm (Thorlabs)](). Renamed to \"led_spectrum_M565L3.xlsx\"\n",
    "* [Filter FF01-479/585-25 (Semrock)](https://www.idex-hs.com/store/product-detail/ff01_479_585_25/fl-004029). Renamed to \"filter_spectrum_479-585.txt\"\n",
    "* [Filter FF01-479/585-25 (Semrock)](https://www.idex-hs.com/store/product-detail/ff01_524_628_25/fl-004030). Renamed to \"filter_spectrum_524_628.txt\"/"
   ]
  },
  {
   "cell_type": "markdown",
   "id": "67ae1a73-5dbb-4030-9a50-64fae0fb40a7",
   "metadata": {},
   "source": [
    "# Import the libraries"
   ]
  },
  {
   "cell_type": "code",
   "execution_count": null,
   "id": "ca843f9c-ddd8-4ad0-8711-01d075233a46",
   "metadata": {},
   "outputs": [],
   "source": [
    "import numpy as np\n",
    "import pandas as pd\n",
    "\n",
    "import seaborn as sns\n",
    "import matplotlib.pyplot as plt\n",
    "import matplotlib.colors as colors\n",
    "\n",
    "# Interactive plots\n",
    "import ipywidgets as widgets\n",
    "from IPython.display import display\n",
    "#For Jupyter Lab:\n",
    "%matplotlib widget\n",
    "\n",
    "import os\n",
    "import sys"
   ]
  },
  {
   "cell_type": "markdown",
   "id": "3649644d-097c-4ef9-894b-f82688bd8a2e",
   "metadata": {},
   "source": [
    "# Create the paths"
   ]
  },
  {
   "cell_type": "code",
   "execution_count": null,
   "id": "62601f9c-b846-43c5-ace0-814d8026cae7",
   "metadata": {},
   "outputs": [],
   "source": [
    "notebook_name = 'spectra_viewer'\n",
    "\n",
    "# Data path to 'Data_example' folders. Change accordingly to your data structure.\n",
    "data_path = os.path.dirname(os.getcwd())  # Moves one level up from the current directory\n",
    "\n",
    "# Change the folder names accordingly\n",
    "paths = {'data': data_path,\n",
    "         'raw_data':  f'{data_path}/Data_examples/{notebook_name}/',\n",
    "         'processed_data': f'{data_path}/Processed_data_examples/{notebook_name}/',\n",
    "         'analysis': f'{data_path}/Analysis_examples/{notebook_name}/',         \n",
    "         'plots': f'{data_path}/Analysis_examples/{notebook_name}/Plots/'}\n",
    "\n",
    "# Make folders if they do not exist yet\n",
    "for path in paths.values():\n",
    "    os.makedirs(path, exist_ok=True)"
   ]
  },
  {
   "cell_type": "markdown",
   "id": "7e9cd2bd-6893-43e8-8614-63a4fec2f33b",
   "metadata": {},
   "source": [
    "# Color maps and wavelength range"
   ]
  },
  {
   "cell_type": "code",
   "execution_count": null,
   "id": "a7610e68-1372-49cd-82f2-56a89682cd4e",
   "metadata": {},
   "outputs": [],
   "source": [
    "# Define the wavelength range for the plot and color map\n",
    "wavelength_start = 350\n",
    "wavelength_end = 750\n",
    "\n",
    "# Define the new colormap with the desired range\n",
    "color_map_range = (wavelength_start, wavelength_end)\n",
    "custom_colormap = colors.LinearSegmentedColormap.from_list('spectral_custom',\n",
    "                                                           colors=['violet', 'indigo', \n",
    "                                                                   'blue', 'green', 'yellow', \n",
    "                                                                   'orange', 'red', 'darkred'],\n",
    "                                                           N=128)  # number of colors"
   ]
  },
  {
   "cell_type": "markdown",
   "id": "1fac88f8-7bc3-4a0a-a930-abad6308735e",
   "metadata": {},
   "source": [
    "# Load fluorescent protein spectra\n"
   ]
  },
  {
   "cell_type": "code",
   "execution_count": null,
   "id": "7f4e4236-38bd-47df-9bdd-2afb5a08e9fa",
   "metadata": {},
   "outputs": [],
   "source": [
    "# Select the fluorescent protein spectra to plot\n",
    "fp_spectra = ['fp_spectra_mapple', 'fp_spectra_egfp']  # or blank\n",
    "fp_file_extension = 'csv'  # Change the pandas function to load the data accordingly\n",
    "\n",
    "# Define here the column indexes\n",
    "fp_wavelength_column = 0\n",
    "fp_ex_intensity_column = 1\n",
    "fp_em_intensity_column = 2"
   ]
  },
  {
   "cell_type": "code",
   "execution_count": null,
   "id": "f00ba900-03ab-4424-a2a6-8e5fc2434b27",
   "metadata": {},
   "outputs": [],
   "source": [
    "# Empty list to store fluorescent protein data\n",
    "fp_data = []\n",
    "\n",
    "for fp_spectrum in fp_spectra:\n",
    "    file_path = os.path.join(paths['raw_data'], f\"{fp_spectrum}.{fp_file_extension}\")  # Another way to create the path\n",
    "    print(file_path)\n",
    "\n",
    "    # Load the data\n",
    "    fp_spectra_data = pd.read_csv(file_path, delimiter=\",\", keep_default_na=True)\n",
    "    \n",
    "    # Fluorescent protein excitation and emission spectra\n",
    "    fp_ex = fp_spectra_data.iloc[:, [fp_wavelength_column, fp_ex_intensity_column]] \n",
    "    fp_ex_label = fp_spectra_data.columns[fp_ex_intensity_column]\n",
    "    \n",
    "    fp_em = fp_spectra_data.iloc[:, [fp_wavelength_column, fp_em_intensity_column]] \n",
    "    fp_em_label = fp_spectra_data.columns[fp_em_intensity_column]\n",
    "\n",
    "    # Find the wavelength with peak excitation and emission intensities\n",
    "    fp_ex_peak = fp_ex.loc[fp_ex.iloc[:, 1].idxmax()]\n",
    "    fp_em_peak = fp_em.loc[fp_em.iloc[:, 1].idxmax()]\n",
    "\n",
    "    # Assign colors based on the peak wavelengths\n",
    "    fp_ex_peak_proportion = ((fp_ex_peak[fp_ex.columns[fp_wavelength_column]] - wavelength_start) \n",
    "                             / (wavelength_end - wavelength_start))\n",
    "    fp_ex_color = custom_colormap(fp_ex_peak_proportion)\n",
    "    \n",
    "    fp_em_peak_proportion = ((fp_em_peak[fp_em.columns[fp_wavelength_column]] - wavelength_start) \n",
    "                             / (wavelength_end - wavelength_start))\n",
    "    fp_em_color = custom_colormap(fp_em_peak_proportion)\n",
    "\n",
    "    fp_data.append((fp_ex, fp_ex_label, fp_ex_color, fp_em, fp_em_label, fp_em_color))\n"
   ]
  },
  {
   "cell_type": "markdown",
   "id": "b3daca72-8cd8-478d-bc60-4315b90bbadf",
   "metadata": {},
   "source": [
    "# Load filters data"
   ]
  },
  {
   "cell_type": "code",
   "execution_count": null,
   "id": "5ad0b567-282d-47e0-bb9a-4b899f9b25d4",
   "metadata": {},
   "outputs": [],
   "source": [
    "filternames = ['filter_spectrum_479-585', 'filter_spectrum_524_628']  # or blank\n",
    "filter_file_extension = 'txt'  # Change pandas the function to load the data accordingly\n",
    "\n",
    "filter_wavelength_column = 0\n",
    "filter_intensity_column = 1\n",
    "filter_data_row = 4"
   ]
  },
  {
   "cell_type": "code",
   "execution_count": null,
   "id": "7cefcdc1-212f-4437-8c10-f509a6774f17",
   "metadata": {},
   "outputs": [],
   "source": [
    "# Empty list to store filtered data\n",
    "filter_data = []\n",
    "\n",
    "for filtername in filternames:\n",
    "    file_path = f\"{paths['raw_data']}{filtername}.{filter_file_extension}\"\n",
    "    print(file_path)\n",
    "    \n",
    "    # Load the data\n",
    "    filter_spectrum_file = pd.read_csv(file_path, delimiter=\"\\t\", header=None, keep_default_na=True)\n",
    "    \n",
    "    # Select rows with data and convert columns to float\n",
    "    filter_spectrum = filter_spectrum_file.iloc[filter_data_row:, [filter_wavelength_column, filter_intensity_column]]\n",
    "    filter_spectrum.columns = ['wavelength', 'transmission']\n",
    "    filter_spectrum = filter_spectrum.astype(float)\n",
    "    \n",
    "    # Append the filtered data along with its label\n",
    "    filter_data.append((filter_spectrum, filtername))"
   ]
  },
  {
   "cell_type": "markdown",
   "id": "761e32c4-6e2a-4e97-bb16-6791b24718e2",
   "metadata": {},
   "source": [
    "## Load the LED spectrum data"
   ]
  },
  {
   "cell_type": "code",
   "execution_count": null,
   "id": "4c38933e-b280-4c60-bc0d-560837782b13",
   "metadata": {},
   "outputs": [],
   "source": [
    "led_spectra = ['led_spectrum_M470L5', 'led_spectrum_M565L3']\n",
    "led_file_extension = 'xlsx'  # Change the pandas function to load the data accordingly\n",
    "\n",
    "# Change the column indices accordingly to the tabular data\n",
    "led_column_header = 1\n",
    "led_wavelength_column = 2\n",
    "led_intensity_column = 3"
   ]
  },
  {
   "cell_type": "code",
   "execution_count": null,
   "id": "018b543f-c817-45cb-b041-c0b519a89401",
   "metadata": {},
   "outputs": [],
   "source": [
    "# Empty list to store led data\n",
    "led_data = []\n",
    "\n",
    "for led_spectrum in led_spectra:\n",
    "    file_path = f\"{paths['raw_data']}{led_spectrum}.{led_file_extension}\"\n",
    "    print(file_path)\n",
    "\n",
    "    # Load the data\n",
    "    led_spectra_data = pd.read_excel(file_path, keep_default_na=True, header=led_column_header)\n",
    "    \n",
    "    # LED spectra data (change column index accordingly)\n",
    "    led_spectrum_data = led_spectra_data.iloc[:, [led_wavelength_column, led_intensity_column]]\n",
    "\n",
    "    # Find the LED peak\n",
    "    led_peak = led_spectrum_data.loc[led_spectrum_data.iloc[:, 1].idxmax()]\n",
    "\n",
    "    # Calculate the peak's proportion within the wavelength range to assign the corresponding color\n",
    "    led_peak_proportion = ((led_peak[led_spectrum_data.columns[0]] - wavelength_start) \n",
    "                           / (wavelength_end - wavelength_start))\n",
    "    \n",
    "    # led_color = plt.get_cmap('Spectral_r')(led_peak_proportion)\n",
    "    led_color = custom_colormap(led_peak_proportion)\n",
    "    \n",
    "    led_data.append((led_spectrum_data, led_spectrum, led_color))"
   ]
  },
  {
   "cell_type": "markdown",
   "id": "6f3be818-42ba-4fe3-9311-2fe76c5df25a",
   "metadata": {},
   "source": [
    "# Spectra viewer\n",
    "\n",
    "You can modify the viewer by changing the colormap, separating spectra in different subplots (ax1, ax2, etc.), changing the wavelength range, etc."
   ]
  },
  {
   "cell_type": "code",
   "execution_count": null,
   "id": "e0e348d8-61d4-41d1-a540-2025feb18a11",
   "metadata": {},
   "outputs": [],
   "source": [
    "# Plot parameters\n",
    "fig, ax = plt.subplots(figsize=(10, 4), sharex=True)\n",
    "plt.rcParams['font.size'] = 12\n",
    "ax.spines['top'].set_visible(False)    # Remove top frame\n",
    "ax.spines['right'].set_visible(False)  # Remove right frame\n",
    "ax.set_xlabel('Wavelength (nm)')\n",
    "ax.set_ylabel('Normalized values')\n",
    "ax.set_xlim(wavelength_start, wavelength_end)\n",
    "ax.set_ylim(0, 1)\n",
    "\n",
    "# Fluorescent protein spectra (comment out if needed)\n",
    "for fp_ex, fp_ex_label, fp_ex_color, fp_em, fp_em_label, fp_em_color in fp_data:\n",
    "    # Plot the spectra\n",
    "    ax.fill_between(fp_ex.iloc[:, 0], fp_ex.iloc[:, 1], \n",
    "                    label=fp_ex_label, color=fp_ex_color, alpha=0.3, linewidth=0)\n",
    "    ax.fill_between(fp_em.iloc[:, 0], fp_em.iloc[:, 1], \n",
    "                    label=fp_em_label, color=fp_em_color, alpha=0.3, linewidth=0)\n",
    "\n",
    "# Filtersets with varying linestyles\n",
    "linestyles = ['dashed', 'solid', 'dashdot']  # Define linestyles\n",
    "for index, (filter_spectrum, filtername) in enumerate(filter_data): \n",
    "    linestyle = linestyles[index % len(linestyles)]  \n",
    "    ax.plot(filter_spectrum['wavelength'], filter_spectrum['transmission'], \n",
    "            label=filtername, color='black', linestyle=linestyle, linewidth=1)\n",
    "\n",
    "# LED spectra (comment out if needed)\n",
    "for led_spectrum_data, led_spectrum, led_color in led_data:\n",
    "    # Plot the LED spectrum\n",
    "    ax.plot(led_spectrum_data.iloc[:, 0], led_spectrum_data.iloc[:, 1], \n",
    "            label=led_spectrum, color=led_color, linewidth=2)\n",
    "\n",
    "# Add colorbar below x-axis\n",
    "cax = plt.axes([0.125, -0.10, 0.775, 0.05])\n",
    "cbar = plt.colorbar(plt.cm.ScalarMappable(norm=None, cmap=custom_colormap),\n",
    "                     cax=cax, orientation='horizontal')\n",
    "cbar.set_ticks([])\n",
    "cbar.set_ticklabels([])\n",
    "\n",
    "# Add legend and display plot\n",
    "ax.legend(loc='center left', bbox_to_anchor=(1, 0.5), frameon=False)\n",
    "fig.tight_layout()\n",
    "plt.show()"
   ]
  },
  {
   "cell_type": "markdown",
   "id": "bdebced2-4f2a-4a30-b079-32ea3987807e",
   "metadata": {},
   "source": [
    "## Save the plot"
   ]
  },
  {
   "cell_type": "code",
   "execution_count": null,
   "id": "e8e77222-f7cb-4d75-99af-56330fec3d6f",
   "metadata": {},
   "outputs": [],
   "source": [
    "fig.savefig(f\"{paths['plots']}/Spectra_plot.tif\", dpi=300)"
   ]
  },
  {
   "cell_type": "markdown",
   "id": "7767d4e2-51b0-4962-bc01-af330dd74070",
   "metadata": {},
   "source": [
    "# Custom LED and filters\n",
    "\n",
    "An example of how to create simple Gaussian spectra and rectangular filter bands."
   ]
  },
  {
   "cell_type": "code",
   "execution_count": null,
   "id": "aac37a75-27be-409c-ad26-77f3cbaffc4c",
   "metadata": {},
   "outputs": [],
   "source": [
    "wavelength_range = np.linspace(wavelength_start, wavelength_end, wavelength_end - wavelength_start)\n",
    "\n",
    "# Calculate Gaussian spectrum for LEDs\n",
    "led_peak_wavelength = 470\n",
    "led_fwhm = 40\n",
    "led_sigma = led_fwhm / (2 * np.sqrt(2 * np.log(2)))\n",
    "led_spectrum = np.exp(-(wavelength_range - led_peak_wavelength)**2 / (2 * led_sigma**2))\n",
    "\n",
    "# Define the bandpass filter spectrum for the excitation filter\n",
    "ex_filter_center = 468\n",
    "ex_filter_width = 40\n",
    "\n",
    "ex_filter_band = np.zeros_like(wavelength_range)\n",
    "ex_filter_band[(wavelength_range >= ex_filter_center - ex_filter_width/2) \n",
    "                           & (wavelength_range <= ex_filter_center + ex_filter_width/2)] = 1\n",
    "\n",
    "# Define the cutoff wavelength for the longpass filter\n",
    "longpass_cutoff = 500  # Example cutoff wavelength\n",
    "\n",
    "# Create the longpass filter spectrum\n",
    "longpass_filter = np.zeros_like(wavelength_range)\n",
    "longpass_filter[wavelength_range >= longpass_cutoff] = 1\n",
    "\n",
    "# Plot the custom LED and filter\n",
    "fig, ax = plt.subplots(figsize=(8,4))\n",
    "\n",
    "ax.plot(wavelength_range, led_spectrum)\n",
    "\n",
    "ax.plot(wavelength_range, ex_filter_band, \n",
    "        linestyle='dashed', color='black',)\n",
    "ax.plot(wavelength_range, longpass_filter, \n",
    "        linestyle='dotted', color='black')\n",
    "\n",
    "ax.set_ylabel('Normalized values')\n",
    "ax.set_xlabel('Wavelenth (nm)')\n",
    "\n",
    "fig.tight_layout()\n",
    "plt.show()"
   ]
  }
 ],
 "metadata": {
  "kernelspec": {
   "display_name": "Python 3 (ipykernel)",
   "language": "python",
   "name": "python3"
  },
  "language_info": {
   "codemirror_mode": {
    "name": "ipython",
    "version": 3
   },
   "file_extension": ".py",
   "mimetype": "text/x-python",
   "name": "python",
   "nbconvert_exporter": "python",
   "pygments_lexer": "ipython3",
   "version": "3.11.7"
  }
 },
 "nbformat": 4,
 "nbformat_minor": 5
}
