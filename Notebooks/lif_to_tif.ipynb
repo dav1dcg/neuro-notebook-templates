{
 "cells": [
  {
   "cell_type": "markdown",
   "id": "b166a9c0-4b54-4255-8e35-5e587732627e",
   "metadata": {},
   "source": [
    "# LIF to TIF\n",
    "\n",
    "This notebook uses the library `readlif` from the package [AICSImage](https://allencellmodeling.github.io/aicsimageio/) to read the microscopy Leica Image Files (LIFs) to then convert the files to 'tif' format, which is better handled by Python.\n",
    "\n",
    "Some useful functions in AICSImage:\n",
    "* `img.data` returns 5D TCZYX numpy array\n",
    "* `.shape` returns tuple of dimension sizes in TCZYX order\n",
    "* `img.dims`. The order is: \"T, C, Z, Y, X\"\n",
    "* `metadata` returns the metadata object for this file format"
   ]
  },
  {
   "cell_type": "markdown",
   "id": "1956c1b5-afb0-4169-a5ac-04c957d90c0d",
   "metadata": {},
   "source": [
    "# Example data\n",
    "\n",
    "Live (`LIF01`, `LIF03`) and fixed-tissue (`LIF02`) confocal images. \n"
   ]
  },
  {
   "cell_type": "markdown",
   "id": "9e7fc0da-869b-4505-87c8-81050df246e8",
   "metadata": {},
   "source": [
    "# Import the libraries \n",
    "\n",
    "Double-check that all the libraries listed below are installed.\n",
    "\n",
    "You may need to install: `pip install readlif` AND `pip install bioformats_jar`"
   ]
  },
  {
   "cell_type": "code",
   "execution_count": null,
   "id": "8e607b2a-58aa-4efb-9249-6ce28438201d",
   "metadata": {},
   "outputs": [],
   "source": [
    "import numpy as np\n",
    "\n",
    "import re\n",
    "import os\n",
    "import sys\n",
    "import pandas as pd\n",
    "\n",
    "from aicsimageio import AICSImage\n",
    "import tifffile\n",
    "\n",
    "import xml.etree.ElementTree as ET\n",
    "from xml.dom.minidom import parseString"
   ]
  },
  {
   "cell_type": "markdown",
   "id": "10d4e61e-1366-42e7-9e6a-71167eb5ce7f",
   "metadata": {},
   "source": [
    "# Create the paths\n",
    "\n",
    "\n",
    "Define the **'notebook_name'** (i.e. your project name) and the **'data_path'** names to create all the necessary folders for your project. "
   ]
  },
  {
   "cell_type": "code",
   "execution_count": null,
   "id": "f03568e3-2ad2-4bbf-ac95-5904b70ecdfc",
   "metadata": {},
   "outputs": [],
   "source": [
    "notebook_name = 'lif_to_tif'\n",
    "\n",
    "# Data path to 'Data_example' folders. Change accordingly to your data structure.\n",
    "data_path = os.path.dirname(os.getcwd())  # Moves one level up from the current directory\n",
    "\n",
    "# Change the folder names accordingly\n",
    "paths = {'data': data_path,\n",
    "         'raw_data':  f'{data_path}/Data_examples/{notebook_name}/',\n",
    "         'processed_data': f'{data_path}/Processed_data_examples/{notebook_name}/',\n",
    "         'analysis': f'{data_path}/Analysis_examples/{notebook_name}/',         \n",
    "         'plots': f'{data_path}/Analysis_examples/{notebook_name}/Plots/'}\n",
    "\n",
    "# Make folders if they do not exist yet\n",
    "for path in paths.values():\n",
    "    os.makedirs(path, exist_ok=True)"
   ]
  },
  {
   "cell_type": "markdown",
   "id": "d020121a-e985-4e0a-a530-e21221c9338d",
   "metadata": {},
   "source": [
    "# Define the functions\n",
    "\n",
    "Here are some function templates that you can modify and expand to your needs. For example, to export specific metadata, change the paths, or save more than 2 individual channels."
   ]
  },
  {
   "cell_type": "code",
   "execution_count": null,
   "id": "feb34aed-0fa9-4d09-8d98-159d0aab081b",
   "metadata": {},
   "outputs": [],
   "source": [
    "def lif_to_hyperstack(stack, filename):\n",
    "    stack_transposed = np.transpose(stack.data, (0, 2, 1, 3, 4))\n",
    "    save_path = f\"{paths['processed_data']}{os.path.splitext(filename)[0]}.tif\"\n",
    "    tifffile.imwrite(save_path, stack_transposed, imagej=True)\n",
    "    print(save_path)"
   ]
  },
  {
   "cell_type": "code",
   "execution_count": null,
   "id": "d672dfa2-bab0-4d93-8e05-975a688d2099",
   "metadata": {},
   "outputs": [],
   "source": [
    "def lif_metadata(stack, filename):\n",
    "    # Create the metadata directory \n",
    "    metadata_dir = f\"{paths['processed_data']}{'metadata'}\"\n",
    "    os.makedirs(metadata_dir, exist_ok=True)\n",
    "    \n",
    "    # Convert metadata to XML\n",
    "    metadata_str = parseString(ET.tostring(stack.metadata)).toprettyxml(indent=\"\\t\")\n",
    "    xml_file_path = os.path.join(metadata_dir, f\"{os.path.splitext(filename)[0]}_metadata.xml\")\n",
    "    \n",
    "    # Write the metadata to the XML file\n",
    "    with open(xml_file_path, 'w') as xml_file:\n",
    "        xml_file.write(metadata_str)\n"
   ]
  },
  {
   "cell_type": "code",
   "execution_count": null,
   "id": "e0d9f2c9-e9e0-419f-a749-fd8ce4841f67",
   "metadata": {},
   "outputs": [],
   "source": [
    "def lif_to_channels(stack, filename, max_projection=False):\n",
    "\n",
    "    # Time-series and two channels:\n",
    "    if stack.dims.T > 1 and stack.dims.C == 2:\n",
    "        ch1 = stack.data[:, 0, :, :, :]\n",
    "        ch2 = stack.data[:, 1, :, :, :]\n",
    "\n",
    "        # Time-series, two-channels and z-stack:\n",
    "        if max_projection and stack.dims.Z > 1:\n",
    "            ch1 = np.max(ch1, axis=1)\n",
    "            ch2 = np.max(ch2, axis=1)\n",
    "            ch1_suffix = \"_ch1_z-max.tif\"\n",
    "            ch2_suffix = \"_ch2_z-max.tif\"\n",
    "        else:\n",
    "            ch1_suffix = \"_ch1.tif\"\n",
    "            ch2_suffix = \"_ch2.tif\"\n",
    "        \n",
    "        # Save one TIFF per channel\n",
    "        save_path_ch1 = f\"{paths['processed_data']}{os.path.splitext(filename)[0]}{ch1_suffix}\"\n",
    "        save_path_ch2 = f\"{paths['processed_data']}{os.path.splitext(filename)[0]}{ch2_suffix}\"\n",
    "        \n",
    "        tifffile.imwrite(save_path_ch1, ch1)\n",
    "        tifffile.imwrite(save_path_ch2, ch2)\n",
    "        \n",
    "        print(save_path_ch1), print(save_path_ch2)"
   ]
  },
  {
   "cell_type": "markdown",
   "id": "286c4cba-c806-4b57-ad10-a5d9f2e67553",
   "metadata": {},
   "source": [
    "# Save Leica files as hyperstacks"
   ]
  },
  {
   "cell_type": "markdown",
   "id": "9bba1b58-f976-41eb-a584-ebb88bec2c81",
   "metadata": {},
   "source": [
    "## Loop through all folders\n",
    "\n",
    "You can use `os.walk()` to go through the file names in a directory tree by walking the tree either top-down or bottom-up. For each directory in the tree rooted at directory `top` (including `top` itself), it yields a 3-tuple: `dirpath`, `dirnames`, `filenames`. See [Documentation](https://docs.python.org/3/library/os.html).\n",
    "\n",
    "Additionally, you can use **if** statements to look for specific filenames or file types:\n",
    "- Regular expressions: `re.match()` checks for a match only at the beginning of the string, while `re.search()` checks for a match anywhere in the string. See [Documentation](https://docs.python.org/3/library/re.html) and [cheat sheet](https://cheatography.com/davechild/cheat-sheets/regular-expressions/).\n",
    "- Python built-in functions for text or [strings](https://python-reference.readthedocs.io/en/latest/docs/str/): `startswith`, `endswith`, etc. See [Documentation](https://docs.python.org/3/library/stdtypes.html#text-sequence-type-str).\n",
    "\n",
    "**Note**: The example data includes time-series, time-series with z-stacks, and multi-channel z-stacks."
   ]
  },
  {
   "cell_type": "code",
   "execution_count": null,
   "id": "d7de9b8b-bb38-4d2d-a6bb-0fbc1441bf49",
   "metadata": {},
   "outputs": [],
   "source": [
    "lif_files_found = False\n",
    "\n",
    "# Walk through the directory\n",
    "for root, subdirs, files in os.walk(paths['raw_data']):\n",
    "    for file in files:\n",
    "        if file.endswith('.lif'):  \n",
    "            lif_files_found = True  # Set the flag to True when a .lif file is found\n",
    "\n",
    "            # Load the .lif file using AICSImage\n",
    "            stack = AICSImage(os.path.join(root, file))\n",
    "    \n",
    "            # Save LIF as hyperstack and LIF metadata\n",
    "            lif_to_hyperstack(stack, file)\n",
    "            lif_metadata(stack, file)\n",
    "\n",
    "# Print statement if no 'lif' files were found\n",
    "if not lif_files_found:\n",
    "    print(\"No '.lif' files were found\")"
   ]
  },
  {
   "cell_type": "markdown",
   "id": "2153504d-2b0f-4aad-b338-7f0d206312ef",
   "metadata": {},
   "source": [
    "## Loop through specific recordings\n",
    "\n",
    "This is another way to loop through specific 'recordings' saved in an specific location ('recordings_path'). If the file is not found, it will print the file path of the file not found."
   ]
  },
  {
   "cell_type": "code",
   "execution_count": null,
   "id": "962d3530-bcc3-4534-a99c-9e1a8f1c53c9",
   "metadata": {},
   "outputs": [],
   "source": [
    "recordings_path = paths['raw_data']\n",
    "\n",
    "recordings = ['LIF01', 'LIF03']\n",
    "\n",
    "for recording in recordings:\n",
    "    file_path = f\"{recordings_path}{recording}.lif\"\n",
    "\n",
    "    try:\n",
    "        # Load the .lif file using AICSImage\n",
    "        stack = AICSImage(file_path)\n",
    "\n",
    "        # Save LIF as hyperstack and LIF metadata\n",
    "        lif_to_hyperstack(stack, recording)\n",
    "        lif_metadata(stack, recording)\n",
    "    \n",
    "    except FileNotFoundError:\n",
    "        print(f\"File not found: {file_path}\")"
   ]
  },
  {
   "cell_type": "markdown",
   "id": "8ce77b5b-3173-4925-bb50-e50d3b462b7e",
   "metadata": {},
   "source": [
    "# Save 'LIF' files as 'TIF' files\n",
    "\n",
    "An example of how to combine different functions to save the LIF files as hyperstacks or single files as needed.\n",
    "\n",
    "Print statements can be substituted with [logging](https://docs.python.org/3/library/logging.html) for better control."
   ]
  },
  {
   "cell_type": "code",
   "execution_count": null,
   "id": "6a85d0bd-2b0e-4800-ac4c-e4eca2c3a421",
   "metadata": {},
   "outputs": [],
   "source": [
    "# Walk through the directory\n",
    "for root, subdirs, files in os.walk(paths['raw_data']):\n",
    "    for file in files:\n",
    "        if file.endswith('.lif'):  # Define Leica files\n",
    "           \n",
    "            # Load the .lif file using AICSImage\n",
    "            stack = AICSImage(os.path.join(root, file))\n",
    "\n",
    "            # Time-series with 2 channels and z-stacks\n",
    "            if stack.dims.T > 1 and stack.dims.C > 1:\n",
    "                lif_to_channels(stack, file, max_projection=False)\n",
    "                # Save the metadata\n",
    "                lif_metadata(stack, file)\n",
    "\n",
    "            else:\n",
    "                # Save LIF as hyperstack and LIF metadata\n",
    "                lif_to_hyperstack(stack, file)\n",
    "                lif_metadata(stack, file)"
   ]
  }
 ],
 "metadata": {
  "kernelspec": {
   "display_name": "Python 3 (ipykernel)",
   "language": "python",
   "name": "python3"
  },
  "language_info": {
   "codemirror_mode": {
    "name": "ipython",
    "version": 3
   },
   "file_extension": ".py",
   "mimetype": "text/x-python",
   "name": "python",
   "nbconvert_exporter": "python",
   "pygments_lexer": "ipython3",
   "version": "3.11.7"
  }
 },
 "nbformat": 4,
 "nbformat_minor": 5
}
