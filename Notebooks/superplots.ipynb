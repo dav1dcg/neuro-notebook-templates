{
 "cells": [
  {
   "attachments": {},
   "cell_type": "markdown",
   "id": "daa71d70-4429-4929-8935-469f8df7c719",
   "metadata": {},
   "source": [
    "# Superplots\n",
    "\n",
    "In cell biology and neuroscience, we have to consider both the sample-to-sample or individual-to-individual differences and the cell-to-cell variability for our experiments. What is n? This depends on the population you want to compare. In general, it is the population of cells or the number of independent experiments unless you are interested in cell-to-cell variability. One approach to communicate variability is using \"superplots\" to show both summary statistics and the independent experiments within the dataset (**Figure 1**). \n",
    "\n",
    "![image](https://blog.everydayscientist.com/wp-content/uploads/Fig_1-revision-simple1b-kvedit.9-ABCD_added.png)\n",
    "\n",
    "\n",
    "**Figure 1**. A. Plots with multiple observations and small error bars. B. Better plots to show the reproducibility of each experiment. Lord et al., 2020. \n",
    "\n",
    "**SuperPlots References**\n",
    "\n",
    "This Jupyter notebook shows how to make SuperPlots in Python using matplotlib and seaborn. For making them with other tools, see below. \n",
    "\n",
    "* Lord et al., 2020. [SuperPlots: Communicating reproducibility and variability in cell biology](https://doi.org/10.1083/jcb.202001064). Tutorials for Excel, R, and Prism. \n",
    "* Goedhart, 2021. [SuperPlotsOfData—a web app for the transparent display and quantitative comparison of continuous data from different conditions](https://www.molbiolcell.org/doi/10.1091/mbc.E20-09-0583). Super plots of data by Joachim Goedhart (UvA). [Web application](https://huygens.science.uva.nl/SuperPlotsOfData/) based on the article by Lord et al., 2020.\n",
    "* Kenny and Schoen, 2021. [Violin SuperPlots: visualizing replicate heterogeneity in large data sets](https://www.molbiolcell.org/doi/10.1091/mbc.E21-03-0130). Violin superplots by Martin Kenny and Ingmar Schoen. [GitHub](https://github.com/kynnemall/superviolin/tree/master). [Web app](https://superviolin.streamlit.app/) also available. Article: [Kenny and Schoen, 2021](https://www.molbiolcell.org/doi/10.1091/mbc.E21-03-0130). It also works from the Anaconda prompt. For more details, read the [documentation](https://github.com/kynnemall/superviolin/tree/master).\n",
    "\n",
    "For more details, read the [documentation](https://github.com/kynnemall/superviolin/tree/master).\n",
    "\n",
    "**Further references on replication**\n",
    "- Eisner, 2021. Pseudoreplication in physiology: More means less. [Link](https://doi.org/10.1085/jgp.202012826)\n",
    "- Kenny and Schoen, 2021. Violin SuperPlots: visualizing replicate heterogeneity in large data sets. [Link](https://www.molbiolcell.org/doi/10.1091/mbc.E21-03-0130).\n",
    "- Lazic, 2010. The problem of pseudoreplication in neuroscientific studies: is it affecting your analysis? [Link](https://bmcneurosci.biomedcentral.com/articles/10.1186/1471-2202-11-5).\n",
    "- Lazic et al., 2018. What exactly is ‘N’ in cell culture and animal experiments? [Link](https://doi.org/10.1371/journal.pbio.2005282). \n",
    "- Lord et al., 2020. SuperPlots: Communicating reproducibility and variability in cell biology. [Link](https://doi.org/10.1083/jcb.202001064).\n",
    "\n",
    "## Nested analysis\n",
    "\n",
    "In order to analyze the clustered or nested data, we can conservately consider only the mean of each replicate or use instead nested analysis to take into account both the variability of clusters and the multiple observations nested within each cluster. Clustered data arise when the data from the whole study can be classified into several different groups, referred to as clusters.\n",
    "\n",
    "![image](https://media.springernature.com/full/springer-static/image/art%3A10.1038%2Fnmeth.3137/MediaObjects/41592_2014_Article_BFnmeth3137_Fig2_HTML.jpg?as=webp)\n",
    "\n",
    "**Figure 2**. Examples of crossed and nested experiments. Source: Krzywinski et al, 2015.\n",
    "\n",
    "**References**\n",
    "- Aarts et al., 2015. Multilevel analysis quantifies variation in the experimental effect while optimizing power and preventing false positives. [Link](https://bmcneurosci.biomedcentral.com/articles/10.1186/s12868-015-0228-5). \n",
    "- Krzywinski et al., 2015. Nested analysis. [Link](https://www.nature.com/articles/nmeth.3137).\n",
    "- Galbraith et al., 2010. A Study of Clustered Data and Approaches to Its Analysis. [Link](https://www.jneurosci.org/content/30/32/10601).\n"
   ]
  },
  {
   "cell_type": "markdown",
   "id": "8f187cf8-9a38-42f1-b474-0148e01ee218",
   "metadata": {},
   "source": [
    "# Example data\n",
    "\n",
    "The file `jcb_202001064_datas1.txt` is from the supplementary materials by [Lord et al., 2020](https://doi.org/10.1083/jcb.202001064). The file `cell_types_specimen_details.csv` can be downloaded [here](https://celltypes.brain-map.org/data). For a description of the features, download the electrophysiology and morphology [documentation](https://community.brain-map.org/t/documentation-cell-types-database/2845).\n"
   ]
  },
  {
   "cell_type": "markdown",
   "id": "d1ce86c7-6f73-466b-9a29-eb8ef6a56287",
   "metadata": {},
   "source": [
    "# Import the libraries\n",
    "\n",
    "Double-check that all the libraries listed below are installed.\n",
    "\n",
    "For statistical annotations in Python, install [statannotations](https://github.com/trevismd/statannotations). See [Documentation](https://github.com/trevismd/statannotations/blob/master/usage/example.ipynb). \n",
    "\n",
    "You can make superplots using the function `swarmplot` of the package seaborn. See [documentation](https://seaborn.pydata.org/generated/seaborn.swarmplot.html#seaborn-swarmplot). Seaborn styles: `darkgrid`, `whitegrid`, `dark`, `white`, and `ticks`.\n",
    "\n",
    "Library versions I used for this notebook: Pandas 1.5.3, NumPy 1.23.5, Seaborn 0.11.2, Matplotlib 3.6.3, SciPy 1.9.3, Statsmodels 0.14.3, statannotations 0.5.0.\n",
    "\n",
    "**Notes**:\n",
    "- I had issues trying to install the latest version of 'statannotations'. However, `statannotations 0.5.0` does not seem to work with the latest seaborn version (I used `pip install seaborn==0.11.2`). You may also need to instal: `pip install --upgrade seaborn statannotations`. These incompatibilities between dependencies are always a problem if you use regular environments. \n",
    "- The attribute `register_cmap` has been removed in `matplotlib 3.9`. Upgrade `seaborn` (but see above) or install `matplotlib 3.8`."
   ]
  },
  {
   "cell_type": "code",
   "execution_count": null,
   "id": "08c6b74c-b6af-4900-9405-aff52386dcdd",
   "metadata": {},
   "outputs": [],
   "source": [
    "import pandas as pd\n",
    "import numpy as np\n",
    "import os\n",
    "\n",
    "# Plotting libraries\n",
    "import seaborn as sns\n",
    "import matplotlib.pyplot as plt\n",
    "\n",
    "# Statistics libraries\n",
    "from scipy import stats\n",
    "from scipy.stats import pearsonr\n",
    "import scipy\n",
    "from statannotations.Annotator import Annotator\n",
    "import statsmodels.formula.api as smf\n",
    "\n",
    "\n",
    "# Optional: Display all columns in table\n",
    "pd.set_option('display.max_columns', None)"
   ]
  },
  {
   "cell_type": "code",
   "execution_count": null,
   "id": "55b8a203-5ce4-484d-af3c-2f836b8e0526",
   "metadata": {},
   "outputs": [],
   "source": [
    "import statannotations\n",
    "print(\"Statsmodels version:\", statannotations.__version__)\n"
   ]
  },
  {
   "cell_type": "markdown",
   "id": "21245b04-35a6-4e37-9df2-149fdeffef91",
   "metadata": {},
   "source": [
    "# Create the paths"
   ]
  },
  {
   "cell_type": "code",
   "execution_count": null,
   "id": "6502672a-8c70-443d-8e53-fb17c710e826",
   "metadata": {},
   "outputs": [],
   "source": [
    "notebook_name = 'superplots'\n",
    "\n",
    "# Data path to 'Data_example' folders. Change accordingly to your data structure.\n",
    "data_path = os.path.dirname(os.getcwd())  # Moves one level up from the current directory\n",
    "\n",
    "# Change the folder names accordingly\n",
    "paths = {'data': data_path,\n",
    "         'raw_data':  f'{data_path}/Data_examples/{notebook_name}/',\n",
    "         'processed_data': f'{data_path}/Processed_data_examples/{notebook_name}/',\n",
    "         'analysis': f'{data_path}/Analysis_examples/{notebook_name}/',         \n",
    "         'plots': f'{data_path}/Analysis_examples/{notebook_name}/Plots/'}\n",
    "\n",
    "# Make folders if they do not exist yet\n",
    "for path in paths.values():\n",
    "    os.makedirs(path, exist_ok=True)"
   ]
  },
  {
   "cell_type": "markdown",
   "id": "2d0500d1-6fcc-46cd-aa85-10fb557c7ea9",
   "metadata": {},
   "source": [
    "# Superplots and statistics for 2 groups"
   ]
  },
  {
   "cell_type": "markdown",
   "id": "350beebe-704d-41ce-a97d-0664ef631e70",
   "metadata": {},
   "source": [
    "## Load the dataset"
   ]
  },
  {
   "cell_type": "code",
   "execution_count": null,
   "id": "2a0e0ed3-2d7b-4619-bd31-bd4d82f475d9",
   "metadata": {},
   "outputs": [],
   "source": [
    "dataset1 = pd.read_csv(f\"{paths['raw_data']}/jcb_202001064_datas1.txt\")\n",
    "dataset1"
   ]
  },
  {
   "cell_type": "markdown",
   "id": "d2c75f6f-cb60-443d-898d-fa7f8aab37c9",
   "metadata": {},
   "source": [
    "## Define the variables"
   ]
  },
  {
   "cell_type": "code",
   "execution_count": null,
   "id": "480e0df2-cc55-43fa-adea-e0a3308957cf",
   "metadata": {},
   "outputs": [],
   "source": [
    "# Define the variables for testing and plotting\n",
    "groupedby_variable = 'Treatment'\n",
    "group1 = 'Control'\n",
    "group2 = 'Drug'\n",
    "groups_order = [group1, group2]\n",
    "replicates = 'Replicate'\n",
    "feature = 'Speed'\n",
    "\n",
    "# Groupby the dataset\n",
    "groupby_dataset = dataset1[dataset1[groupedby_variable].isin([group1, group2])]\n",
    "\n",
    "# Calculate replicate averages\n",
    "replicates_avg = dataset1.groupby([groupedby_variable,replicates], as_index=False).agg({feature: \"mean\"})\n",
    "\n",
    "# Pivot table for statistics\n",
    "replicates_avg_pivot = replicates_avg.pivot_table(columns=groupedby_variable, values=feature, index=replicates)\n",
    "\n",
    "group_size = groupby_dataset.groupby(groupedby_variable).size()\n",
    "print(\"Group size (n):\", group_size)\n",
    "\n",
    "replicates_avg"
   ]
  },
  {
   "cell_type": "markdown",
   "id": "da9e1108-53b5-4695-ad02-6f4cc7bf481d",
   "metadata": {},
   "source": [
    "## Statistical tests\n",
    "\n",
    "I show some examples for statistical analysis. See the links above and the 'Readme' for references on statistics."
   ]
  },
  {
   "cell_type": "code",
   "execution_count": null,
   "id": "a8720212-cfb8-4e86-8b2c-315fc0ae4c9d",
   "metadata": {},
   "outputs": [],
   "source": [
    "# Unpaired t-test using scipy\n",
    "statistic, p_value = scipy.stats.ttest_ind(replicates_avg_pivot[group1], replicates_avg_pivot[group2], nan_policy='omit')\n",
    "statistic_replicates, p_value_replicates = scipy.stats.ttest_ind(dataset1[dataset1[groupedby_variable] == group1][feature], \n",
    "                                                                dataset1[dataset1[groupedby_variable] == group2][feature],\n",
    "                                                                nan_policy='omit')\n",
    "\n",
    "# Nested analysis\n",
    "mixedlm_model = smf.mixedlm(f\"{feature} ~ {groupedby_variable}\",  # mixed-effects formula\n",
    "                            dataset1, \n",
    "                            groups=dataset1[replicates])  # Group labels for random effects\n",
    "\n",
    "mixedlm_result = mixedlm_model.fit()\n",
    "pvalue_mixedlm = mixedlm_result.pvalues\n",
    "\n",
    "# # Print the results\n",
    "p_value_avg = str(float(round(p_value, 4))) \n",
    "print(\"T-test p-value (replicates)\", p_value_replicates)\n",
    "print(\"T-test p-value (averages):\", p_value_avg)\n",
    "# Complete results of the mixed linear model\n",
    "print(mixedlm_result.summary())"
   ]
  },
  {
   "cell_type": "markdown",
   "id": "35d4ef75-2032-4211-9b93-b8d6439b43f3",
   "metadata": {},
   "source": [
    "## Plot\n",
    "\n",
    "Comment or uncomment option A (statsmodel) or B (custom annotation) for statistical annotation. Nevertheless, automatic statistical annotation in Python has some room for improvement. \n",
    "\n",
    "**Note**: If you rerun this cell after running the full script, you will encounter issues with the assignment of some variables to dataset2."
   ]
  },
  {
   "cell_type": "code",
   "execution_count": null,
   "id": "22b1c8c4-020e-4c22-a1fe-fdcb133faba0",
   "metadata": {},
   "outputs": [],
   "source": [
    "# Set seaborn style\n",
    "sns.set(style=\"ticks\",  rc={'figure.figsize':(3, 5)}, font_scale=1.4)\n",
    "palette = sns.color_palette(\"colorblind\")\n",
    "\n",
    "# Create figure and axis objects\n",
    "fig, ax = plt.subplots()\n",
    "\n",
    "# Swarm plot using seaborn. Use hue variable for replicates. Datapoints below error bars: zorder=0\n",
    "sns.swarmplot(x=groupedby_variable, y=feature, hue=replicates, palette='colorblind', \n",
    "              size=5, data=dataset1, alpha=0.7, zorder=0, order=groups_order)\n",
    "\n",
    "# Averages of each replicate in the swarm plot\n",
    "ax = sns.swarmplot(x=groupedby_variable, y=feature, hue=replicates, palette='colorblind', \n",
    "                   size=15, edgecolor=\"k\", linewidth=2, data=replicates_avg, order=groups_order)\n",
    "\n",
    "#  Optional: Plot replicate averages with error bars using 'barplot' or 'pointplot'.\n",
    "sns.pointplot(x=groupedby_variable, y=feature, data=replicates_avg, \n",
    "              markers=\"_\", join=False, order=groups_order,\n",
    "              errorbar=\"sd\", color=\"black\", capsize=0.1, linestyles=\"None\")\n",
    "\n",
    "# Option A for statistical annotation: statsmodel\n",
    "# annotator = Annotator(ax, pairs=[(group1, group2)],  \n",
    "#                       data=replicates_avg, x=groupedby_variable, y=feature,\n",
    "#                       order=groups_order)\n",
    "# annotator.configure(test='t-test_ind', text_format='star', loc='outside')\n",
    "# annotator.apply_and_annotate()\n",
    "\n",
    "# Option B for statistical annotation: custom\n",
    "x1, x2 = 0, 1  # set the start and end positions of the line\n",
    "y = dataset1[feature].max()  # set the height of the line\n",
    "ax.hlines(y=y*1.1, xmin=x1, xmax=x2, color='k', linewidth=1)  # Add a horizontal line for p-value annotation\n",
    "ax.text((x1 + x2) / 2, y*1.1, f\"P = {p_value_avg}\", ha='center', va='bottom', color='k')  # p-value from averages\n",
    "\n",
    "# Plot parameters\n",
    "sns.despine()  # Remove top and right spines\n",
    "ax.set_xlim(-0.4, 1.4)\n",
    "ax.legend_.remove()\n",
    "# sns.move_legend(ax, \"center left\", bbox_to_anchor=(1.3, 0.5), title=replicates)  # Optional\n",
    "\n",
    "\n",
    "# Tight layout\n",
    "plt.tight_layout()\n",
    "\n",
    "plt.savefig(paths['plots'] + feature + '_superplot_2groups.png')\n",
    "\n",
    "plt.show()"
   ]
  },
  {
   "cell_type": "markdown",
   "id": "6aa9abe0-77e2-4f2f-83dd-d7304295cd8c",
   "metadata": {},
   "source": [
    "# Superplots and statistics for more than 2 groups\n",
    "\n",
    "For nested ANOVA, see [Krzywinski et al., 2014](https://www.nature.com/articles/nmeth.3137)."
   ]
  },
  {
   "cell_type": "markdown",
   "id": "53f3c6ae-79dc-4112-9135-f3bc8d9790c1",
   "metadata": {},
   "source": [
    "## Dataset\n",
    "\n",
    "**Note**. I used this open dataset for example purposes. In patch-clamp electrophysiology, the cell can be considered the biological unit of interest."
   ]
  },
  {
   "cell_type": "code",
   "execution_count": null,
   "id": "f21e1f1a-4e93-4547-9888-89fe075eccc3",
   "metadata": {},
   "outputs": [],
   "source": [
    "dataset2 = pd.read_csv(f\"{paths['raw_data']}/cell_types_specimen_details.csv\")\n",
    "dataset2"
   ]
  },
  {
   "cell_type": "markdown",
   "id": "8d0e1b4d-790b-4723-a881-d296f37ae910",
   "metadata": {},
   "source": [
    "## Features"
   ]
  },
  {
   "cell_type": "code",
   "execution_count": null,
   "id": "64560b18-0423-4ae8-93d8-7a14490830f6",
   "metadata": {},
   "outputs": [],
   "source": [
    "# Assign a new variable for the filtered dataset\n",
    "filtered_dataset = dataset2[dataset2['donor__species'] == 'Mus musculus']\n",
    "\n",
    "selected_columns = ['structure__acronym', 'structure__layer', 'line_name']\n",
    "\n",
    "for column in selected_columns:\n",
    "    # Get unique values for the specified column\n",
    "    unique_values = filtered_dataset[column].unique()\n",
    "    print(f\"Unique values in '{column}': {unique_values}\")"
   ]
  },
  {
   "cell_type": "markdown",
   "id": "4e40896e-e84f-4740-8f5c-67e53d6024fb",
   "metadata": {},
   "source": [
    "## Define the variables"
   ]
  },
  {
   "cell_type": "code",
   "execution_count": null,
   "id": "8a2a2298-e14d-4c24-a9d2-d603d95893de",
   "metadata": {},
   "outputs": [],
   "source": [
    "# Define the variables for testing and plotting\n",
    "groupedby_variable = 'line_name'\n",
    "group1 = 'Vip-IRES-Cre'\n",
    "group2 = 'Pvalb-IRES-Cre'\n",
    "group3 = 'Sst-IRES-Cre'\n",
    "groups_order = [group1, group2, group3]\n",
    "replicates = 'structure__layer'\n",
    "feature = 'nr__number_bifurcations'\n",
    "\n",
    "# Filter the dataset for the relevant groups\n",
    "groupedby_dataset = dataset2[dataset2[groupedby_variable].isin(groups_order)]\n",
    "\n",
    "# Calculate replicate averages and standard deviations\n",
    "replicates_avg = groupedby_dataset.groupby([groupedby_variable, replicates], as_index=False).agg({feature: \"mean\"})\n",
    "\n",
    "# Pivot table for statistics\n",
    "replicates_avg_pivot = replicates_avg.pivot_table(columns=groupedby_variable, values=feature, index=replicates)\n",
    "\n",
    "# Groupby the dataset to get the size of each group\n",
    "group_size = groupedby_dataset.groupby(groupedby_variable).size()\n",
    "print(\"Group size (n):\", group_size)\n",
    "\n",
    "replicates_avg_pivot"
   ]
  },
  {
   "cell_type": "markdown",
   "id": "25b5cd4c-a14d-424e-818b-4a35b7fbe95e",
   "metadata": {},
   "source": [
    "## Normality test"
   ]
  },
  {
   "cell_type": "code",
   "execution_count": null,
   "id": "da2a0a64-c45e-4cda-a9f7-b97fb2a5568c",
   "metadata": {},
   "outputs": [],
   "source": [
    "normality_results = {}\n",
    "\n",
    "# Loop through each group to perform the normality test\n",
    "for group in groups_order:\n",
    "    # Filter the dataset for the current group\n",
    "    group_data = groupedby_dataset[groupedby_dataset[groupedby_variable] == group][feature].dropna()\n",
    "    \n",
    "    # Check if there's enough data to perform the test\n",
    "    if len(group_data) > 0:\n",
    "        # Perform the normality test (D'Agostino and Pearson's test)\n",
    "        stat, p_value = stats.normaltest(group_data)\n",
    "        \n",
    "        # Store the result in the dictionary\n",
    "        normality_results[group] = {\"Statistics\": stat, \"p-value\": p_value}\n",
    "normality_results_df = pd.DataFrame(normality_results).T  # Transpose to have groups as rows\n",
    "normality_results_df"
   ]
  },
  {
   "cell_type": "markdown",
   "id": "ee090a98-01d5-4ec1-9480-e9b29b794de9",
   "metadata": {},
   "source": [
    "## Statistical tests\n",
    "\n",
    "[Mixed linear model (statsmodels)](https://www.statsmodels.org/stable/mixed_linear.html):\n",
    "* Intercept: The estimated intercept coefficient. Indicating the expected value of the feature when all other predictors are zero.\n",
    "* Predictor variable: Expected change of the dependet variable (feature) for each unit increase in the variable.\n",
    "* Group Variance: The variance component associated with the grouping structure, capturing variability between different groups"
   ]
  },
  {
   "cell_type": "code",
   "execution_count": null,
   "id": "81f37e4f-6ee4-4509-92c5-d8a5bd9254a9",
   "metadata": {},
   "outputs": [],
   "source": [
    "# One-way ANOVA for all data\n",
    "dataset_replicates = []\n",
    "for column in groupedby_dataset[groupedby_variable].unique():\n",
    "    dataset_replicates.append(groupedby_dataset[groupedby_dataset[groupedby_variable] == column][feature].dropna())\n",
    "fvalue, pvalue = scipy.stats.f_oneway(*dataset_replicates)\n",
    "\n",
    "# One-way ANOVA for the averages\n",
    "dataset_averages = []\n",
    "for column in replicates_avg_pivot.columns:\n",
    "    dataset_averages.append(replicates_avg_pivot[column].dropna())\n",
    "fvalue_averages, pvalue_averages = scipy.stats.f_oneway(*dataset_averages)\n",
    "pvalue_averages = str(float(round(pvalue_averages, 4))) \n",
    "\n",
    "# Mixed linear model (replicates)\n",
    "mixedlm_columns = [feature, groupedby_variable, replicates]\n",
    "mixedlm_dataset = groupedby_dataset.dropna(subset=mixedlm_columns)\n",
    "mixedlm_model = smf.mixedlm(f\"{feature} ~ {groupedby_variable}\",  # fixed effects\n",
    "                            data=mixedlm_dataset, groups=mixedlm_dataset[replicates])  # random effects\n",
    "mixedlm_results = mixedlm_model.fit()\n",
    "pvalue_mixedlm = mixedlm_results.pvalues\n",
    "\n",
    "# # Mixed linear model (averages)\n",
    "# mixedlm_model_averages = smf.mixedlm(f\"{feature} ~ {groupedby_variable}\",  # fixed effects\n",
    "#                                      data=replicates_avg, groups=replicates)  # random effects\n",
    "# mixedlm_results_averages = mixedlm_model_averages.fit()\n",
    "# pvalue_mixedlm_averages = mixedlm_results_averages.pvalues\n",
    "\n",
    "# Print the results\n",
    "print(\"One-way ANOVA (averages):\", \"F-value =\", fvalue_averages, \"P-value =\", pvalue_averages)\n",
    "print(\"One-way ANOVA (replicates):\", \"F-value =\", fvalue, \"P-value =\", pvalue)\n",
    "print(\"Replicates\", mixedlm_results.summary())\n",
    "# print(\"Averages\", mixedlm_results_averages.summary())"
   ]
  },
  {
   "cell_type": "markdown",
   "id": "43c48f82-f9fc-4331-ac43-b267da365fd9",
   "metadata": {},
   "source": [
    "## Plot"
   ]
  },
  {
   "cell_type": "code",
   "execution_count": null,
   "id": "7346e597-169e-46d2-8748-fd662ef15c91",
   "metadata": {},
   "outputs": [],
   "source": [
    "# Set seaborn style\n",
    "sns.set(style=\"ticks\",  rc={'figure.figsize':(8, 9)}, font_scale=1.4)\n",
    "palette = sns.color_palette(\"colorblind\")\n",
    "\n",
    "# Swarm plot using seaborn. Use hue variable for replicates. Datapoints below error bars: zorder=0\n",
    "sns.swarmplot(x=groupedby_variable, y=feature, hue=replicates, palette='colorblind', \n",
    "              size=4, data=groupedby_dataset, alpha=0.7, zorder=0, order=groups_order)\n",
    "\n",
    "# Averages of each replicate in the swarm plot\n",
    "ax = sns.swarmplot(x=groupedby_variable, y=feature, hue=replicates, palette='colorblind', \n",
    "                   size=15, edgecolor=\"k\", linewidth=2, data=replicates_avg, order=groups_order)\n",
    "\n",
    "# Optional: multiple t-test comparisons\n",
    "pairs = [(group1, group2), (group1, group3), (group2, group3)]\n",
    "annotator = Annotator(ax, pairs=pairs, data=replicates_avg, x=groupedby_variable, y=feature)\n",
    "annotator.configure(test='t-test_ind', comparisons_correction=\"Bonferroni\", text_format='star', loc='outside', verbose=3)\n",
    "annotator.apply_test()\n",
    "ax, test_results = annotator.annotate()\n",
    "\n",
    "# Optional: P-value from one-way ANOVA\n",
    "x_mid = (ax.get_xlim()[0] + ax.get_xlim()[1]) / 2\n",
    "ax.text(x_mid, groupedby_dataset[feature].max() * 1.4, f\"One-way ANOVA P = {pvalue_averages}\", ha='center', va='bottom', color='k')\n",
    "\n",
    "# Plot parameters\n",
    "sns.despine()  # Remove top and right spines\n",
    "# ax.legend_.remove()  # Remove legend of the averages\n",
    "plt.xticks(rotation=45) \n",
    "\n",
    "# Manually create the legend\n",
    "handles, labels = ax.get_legend_handles_labels()\n",
    "by_label = dict(zip(labels, handles))\n",
    "ax.legend(by_label.values(), by_label.keys(), title=replicates, \n",
    "          loc=\"center left\", bbox_to_anchor=(1.3, 0.5))\n",
    "\n",
    "# Tight layout\n",
    "plt.tight_layout()\n",
    "\n",
    "plt.savefig(paths['plots'] + feature + '_superplot_multiplegroups.png')\n",
    "\n",
    "plt.show()"
   ]
  }
 ],
 "metadata": {
  "kernelspec": {
   "display_name": "Python 3 (ipykernel)",
   "language": "python",
   "name": "python3"
  },
  "language_info": {
   "codemirror_mode": {
    "name": "ipython",
    "version": 3
   },
   "file_extension": ".py",
   "mimetype": "text/x-python",
   "name": "python",
   "nbconvert_exporter": "python",
   "pygments_lexer": "ipython3",
   "version": "3.11.7"
  }
 },
 "nbformat": 4,
 "nbformat_minor": 5
}
