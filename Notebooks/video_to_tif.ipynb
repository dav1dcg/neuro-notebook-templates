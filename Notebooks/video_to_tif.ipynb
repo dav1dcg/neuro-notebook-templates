{
 "cells": [
  {
   "cell_type": "markdown",
   "id": "b166a9c0-4b54-4255-8e35-5e587732627e",
   "metadata": {},
   "source": [
    "# Video to TIF\n",
    "\n",
    "Video formats are usually difficult to read in Python so it is [recommended to convert them to '.tif' files](https://scikit-image.org/docs/stable/user_guide/video.html). This notebook shows how to use the library [OpenCV](https://docs.opencv.org/2.4/index.html) (Open Source Computer Vision) includes [VideoCapture](https://docs.opencv.org/2.4/modules/highgui/doc/reading_and_writing_images_and_video.html?highlight=videocapture) to read the video files and save them to tiff using the [tifffile](https://github.com/cgohlke/tifffile) library. When saving to tif, you can also compress the file to further reduce the file size. "
   ]
  },
  {
   "cell_type": "markdown",
   "id": "265deec9-8a49-46ad-b5c3-5eef99a0290e",
   "metadata": {},
   "source": [
    "# Example data\n",
    "\n",
    "Infrared video recordings of the mouse face.\n",
    "\n",
    "Go to `Example_files` > `video_to_tif` > `FCM01a.avi`, `FCM02a.mp4`, download the files, and paste them into the 'Data_example' folder of the notebook after you create the paths. Alternatively, if you clone the repository, paste the `video_to_tif` folder into the new `Data_examples` directory. After that, you can run all the cells of the notebook. \n"
   ]
  },
  {
   "cell_type": "markdown",
   "id": "9e7fc0da-869b-4505-87c8-81050df246e8",
   "metadata": {},
   "source": [
    "# Import the libraries\n"
   ]
  },
  {
   "cell_type": "code",
   "execution_count": null,
   "id": "8e607b2a-58aa-4efb-9249-6ce28438201d",
   "metadata": {},
   "outputs": [],
   "source": [
    "import numpy as np\n",
    "\n",
    "import re\n",
    "import os\n",
    "import sys\n",
    "\n",
    "\n",
    "import cv2\n",
    "import tifffile"
   ]
  },
  {
   "cell_type": "markdown",
   "id": "1682de38-7d23-4a8b-bc46-bfce9647d232",
   "metadata": {},
   "source": [
    "# Create the paths"
   ]
  },
  {
   "cell_type": "code",
   "execution_count": null,
   "id": "f03568e3-2ad2-4bbf-ac95-5904b70ecdfc",
   "metadata": {},
   "outputs": [],
   "source": [
    "# Comment out the below code for customizing the paths\n",
    "\n",
    "notebook_name = 'video_to_tif'\n",
    "\n",
    "# Data path to where you want to locate your folder\n",
    "data_path = os.getcwd()  # Default: current directory where the Jupyter notebook is located\n",
    "\n",
    "# Change the folder names accordingly\n",
    "paths = {'data': data_path,\n",
    "         'raw_data':  f'{data_path}/Data_examples/{notebook_name}/',\n",
    "         'processed_data': f'{data_path}/Processed_data_examples/{notebook_name}/',\n",
    "         'analysis': f'{data_path}/Analysis_examples/{notebook_name}/',         \n",
    "         'plots': f'{data_path}/Analysis_examples/{notebook_name}/Plots/'}\n",
    "\n",
    "# Make folders if they do not exist yet\n",
    "for path in paths.values():\n",
    "    os.makedirs(path, exist_ok=True)"
   ]
  },
  {
   "cell_type": "markdown",
   "id": "d020121a-e985-4e0a-a530-e21221c9338d",
   "metadata": {},
   "source": [
    "# Define the function\n",
    "\n",
    "Here is a template function that you can modify and expand to suit your needs, such as removing the downsampling and saving statements.\n",
    "\n",
    "The function extracts individual frames for processing, iteratively downsampling (or not) based on the video's dimensions, converting them to grayscale, and adding them to a list. The frames are saved as TIFF images using the tifffile library. See the [tifffile GitHub](https://github.com/cgohlke/tifffile) for adding or modifying the saving options in the function."
   ]
  },
  {
   "cell_type": "code",
   "execution_count": null,
   "id": "de25b1cf-f61f-47a2-9a68-248ffd5ae075",
   "metadata": {},
   "outputs": [],
   "source": [
    "def video_to_tif(file_path, paths, experiment, downsample_factor=1, compression=None):\n",
    "    \"\"\"\n",
    "    Converts videos to TIFF stacks with optional downsampling and compression options.\n",
    "    Uses OpenCV (cv2) for loading and processing video frames, and Tifffile for saving TIFF stacks with compression.\n",
    "    Args:\n",
    "        file_path (str): The path to the video file.\n",
    "        paths (dict): A dictionary containing paths for data and analysis.\n",
    "        experiment: experiment name.\n",
    "        downsample_factor (int, optional): The factor by which to downsample the video. Default is 1 (no downsampling).\n",
    "        compression (str, optional): The compression method to use for saving the TIFF stack. Default: no compression.\n",
    "    Returns:\n",
    "        str: The path to the saved TIFF stack.\n",
    "    \"\"\"\n",
    "    # Load the video file\n",
    "    video = cv2.VideoCapture(file_path)\n",
    "\n",
    "    # Get the video dimensions\n",
    "    width = int(video.get(cv2.CAP_PROP_FRAME_WIDTH))\n",
    "    height = int(video.get(cv2.CAP_PROP_FRAME_HEIGHT))\n",
    "\n",
    "    # Calculate the new video dimensions\n",
    "    new_width = int(width // downsample_factor)\n",
    "    new_height = int(height // downsample_factor)\n",
    "\n",
    "    # Create a list to store frames\n",
    "    frames = []\n",
    "\n",
    "    # Loop over the video frames and add them to the list\n",
    "    while True:\n",
    "        # Read the next frame from the video\n",
    "        ret, frame = video.read()\n",
    "        if not ret:\n",
    "            break\n",
    "\n",
    "        # Downsample the frame\n",
    "        downsampled_frame = cv2.resize(frame, (new_width, new_height))\n",
    "\n",
    "        # Convert the frame to grayscale\n",
    "        gray_frame = cv2.cvtColor(downsampled_frame, cv2.COLOR_BGR2GRAY)\n",
    "        frames.append(gray_frame)\n",
    "\n",
    "    # Close the video capture object\n",
    "    video.release()\n",
    "\n",
    "    # Create folder in 'processed_data' if it does not exist\n",
    "    filename = os.path.splitext(os.path.basename(file_path))[0]\n",
    "    save_path = f\"{paths['processed_data']}{experiment}\"\n",
    "    if not os.path.exists(save_path):\n",
    "        os.makedirs(save_path)\n",
    "\n",
    "    # Save the TIFF stack using tifffile to preserve metadata\n",
    "    save_path_file = f\"{save_path}/{filename}_{new_height}px.tif\"\n",
    "    tifffile.imwrite(save_path_file, \n",
    "                     frames,\n",
    "                     compression=compression,\n",
    "                     dtype=np.uint8)\n",
    "    \n",
    "    return print(save_path_file)"
   ]
  },
  {
   "cell_type": "markdown",
   "id": "286c4cba-c806-4b57-ad10-a5d9f2e67553",
   "metadata": {},
   "source": [
    "# Convert the videos to tif"
   ]
  },
  {
   "cell_type": "markdown",
   "id": "4eb53a3e-5135-4abe-a49e-7a72c74b0a14",
   "metadata": {},
   "source": [
    "In the example below, I use `os.walk()` to loop through the file names in a directory tree by walking the tree either top-down or bottom-up. For each directory in the tree rooted at the directory `top` (including `top` itself), it yields a 3-tuple: `dirpath`, `dirnames`, and `filenames`. See the [Documentation](https://docs.python.org/3/library/os.html) for more details. You can also loop through specific \"recordings\" saved in a designated location (`recordings_path`). If a file is not found, the file path of the missing file will be printed. Additionally, you can use **if** statements or [regular expressions](https://docs.python.org/3/library/re.html) to search for specific filenames or file types.\n",
    "\n",
    "The example data consists of 1-minute videos in '.avi' and '.mp4' formats.\n",
    "\n",
    "**Note**: With `compression='jpeg'`, files take significantly longer to open in ImageJ. The 'zlib' compression seems to work well.\n",
    "\n"
   ]
  },
  {
   "cell_type": "code",
   "execution_count": null,
   "id": "d7de9b8b-bb38-4d2d-a6bb-0fbc1441bf49",
   "metadata": {},
   "outputs": [],
   "source": [
    "experiments = ['FCM01', 'FCM02']\n",
    "\n",
    "# Downsampling factor and compression for video files (Optional)\n",
    "downsample_factor = 2  \n",
    "compression = 'zlib'  \n",
    "\n",
    "# Walk through the directory\n",
    "for root, subdirs, files in os.walk(paths['raw_data']):\n",
    "    for file in files:\n",
    "        for experiment in experiments:\n",
    "            if file.startswith(experiment): \n",
    "                file_path = f\"{root}/{file}\"\n",
    "            \n",
    "                video_to_tif(file_path, paths, experiment, downsample_factor, compression)\n"
   ]
  }
 ],
 "metadata": {
  "kernelspec": {
   "display_name": "Python 3 (ipykernel)",
   "language": "python",
   "name": "python3"
  },
  "language_info": {
   "codemirror_mode": {
    "name": "ipython",
    "version": 3
   },
   "file_extension": ".py",
   "mimetype": "text/x-python",
   "name": "python",
   "nbconvert_exporter": "python",
   "pygments_lexer": "ipython3",
   "version": "3.11.9"
  }
 },
 "nbformat": 4,
 "nbformat_minor": 5
}
