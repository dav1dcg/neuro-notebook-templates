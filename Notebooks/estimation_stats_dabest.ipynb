{
 "cells": [
  {
   "cell_type": "markdown",
   "id": "f911083f-3435-4532-bb8a-e50b3f6d8504",
   "metadata": {},
   "source": [
    "# Estimation statistics\n",
    "\n",
    "Statistics are an essential mathematical tool in biomedical research for describing, analyzing, and interpreting experimental data. Many useful guidelines for reporting statistics in scientific journals have been published in recent years. To name just a few: [Kass et al., 2016](https://journals.plos.org/ploscompbiol/article?id=10.1371/journal.pcbi.1004961), [Makin and Orban de Xivry, 2019](https://elifesciences.org/articles/48175), and the [Statistics for Biologists series](https://www.nature.com/collections/qghhqm) published by Nature. These articles are valuable resources for improving our understanding of statistics and avoiding common mistakes.\n",
    "\n",
    "The most common statistical approach in biomedicine is Null Hypothesis Significance Testing (NHST), which involves calculating the probability of observing the data—or something more extreme—if the null hypothesis is true. This probability is referred to as the p-value. Based on this value, researchers determine whether observed differences are statistically significant.\n",
    "\n",
    "In the last few years, several authors suggest taking complementary approaches o measuring quantitative effects and reporting uncertainty. In this regard, **estimation statistics** focus more on the effect size or, in other words, the magnitude of the effect we are investigating (how much?). This is important because results can be statistically significant using NHST, but the effect size and its error can show that the difference is almost negligible, regardless of its biological interpretation (see [Gelman and Stern, 2012](https://www.tandfonline.com/doi/abs/10.1198/000313006X152649)).\n",
    "\n",
    "This notebook adapts the code from the paper \"Moving beyond P values: data analysis with estimation graphics\" by [Ho et al., 2019](https://doi.org/10.1038/s41592-019-0470-3) ([PDF](https://www.researchgate.net/publication/333884529_Moving_beyond_P_values_data_analysis_with_estimation_graphics)). Ho et al. developed DABEST (‘data analysis with bootstrap-coupled estimation for calculating and plotting estimation statistics’). DABEST is an open-source library for Matlab, Python, and R, and is also available as a web application called [estimationstats](https://www.estimationstats.com/).\n",
    "\n",
    "The authors of this paper argue that estimation methods and plots can be a better alternative to null hypothesis significance testing. In the case of plots, the figure below shows how to improve two-group data graphics from a bar plot (a) to an estimation plot (e). Estimation plots show the following:\n",
    "\n",
    "- All data points plotted as swarm plots, allowing readers to see the size and distributions of the samples.\n",
    "- Effect size: mean, median, Cohen's d, Hedge's d, or Cliff's delta.\n",
    "- Precision of effect size performed through bootstrap resampling, which generally approaches a normal distribution (central limit theorem).\n",
    "- Confidence intervals for effect size based on the bootstrap resampling.\n",
    "\n",
    "![image](https://media.springernature.com/full/springer-static/image/art%3A10.1038%2Fs41592-019-0470-3/MediaObjects/41592_2019_470_Fig1_HTML.png?as=webp)\n",
    "\n",
    "Figure from [Ho et al., 2019](https://doi.org/10.1038/s41592-019-0470-3).\n",
    "\n",
    "To know more about **estimation statistics**:|\n",
    "- Bernard, 2024. Statistical Analysis Is Vital at eNeuro. [Link](https://pmc.ncbi.nlm.nih.gov/articles/PMC10941633/). \n",
    "- Calin-Jageman, 2018. The New Statistics for Neuroscience Majors: Thinking in Effect Sizes. [Link](https://pmc.ncbi.nlm.nih.gov/articles/PMC6057753/). \n",
    "- Calin-Jageman and Cumming, 2019. Estimation for Better Inference in Neuroscience. [Link](https://www.eneuro.org/content/6/4/ENEURO.0205-19.2019)\n",
    "- Calin-Jageman, 2021. Better Inference in Neuroscience: Test Less, Estimate More. [Link](https://www.jneurosci.org/content/42/45/8427). \n",
    "- Chang and Assam, 2016. Estimation statistics should replace significance testing. [Link](https://www.nature.com/articles/nmeth.3729).\n",
    "- Cumming and Calin-Jageman. Introduction to the New Statistics. [Link](https://thenewstatistics.com/itns/).\n",
    "- Gardner and Altman, 1986. Confidence intervals rather than P values: estimation rather than hypothesis testing. [Link](https://www.ncbi.nlm.nih.gov/pmc/articles/PMC1339793/).\n",
    "- Lakens, 2013. Calculating and reporting effect sizes to facilitate cumulative science: a practical primer for t-tests and ANOVAs. [Link](https://www.frontiersin.org/articles/10.3389/fpsyg.2013.00863/full).\n",
    "- Wasserstein et al., 2019. Moving to a World Beyond “p < 0.05”. [Link](https://www.tandfonline.com/doi/full/10.1080/00031305.2019.1583913)\n",
    "\n",
    "Some authors like Daniel Lakens advocate for a more nuanced view of NHST and p-values, emphasizing their usefulness when properly applied to support informed decision-making.\n",
    "\n",
    "To know more about **p values**:\n",
    "- Cumming, 2013. Dance of p values. [Link](https://www.youtube.com/watch?v=5OL1RqHrZQ8) and [website](https://www.youtube.com/watch?v=5OL1RqHrZQ8). \n",
    "- Lakens, 2021. The Practical Alternative to the p Value Is the Correctly Used p Value. [Link](https://journals.sagepub.com/doi/10.1177/1745691620958012).\n",
    "- Nuzo, 2014. Scientific method: Statistical error. [Link](https://www.nature.com/articles/506150a).\n",
    "- Wasserstein and Lazar. The ASA Statement on p-Values: Context, Process, and Purpose. [Link](https://www.tandfonline.com/doi/full/10.1080/00031305.2016.1154108). "
   ]
  },
  {
   "cell_type": "markdown",
   "id": "e26e73b1-5556-494f-9ce1-27f7119db9bf",
   "metadata": {},
   "source": [
    "# Example data\n",
    "\n",
    "Cell features dataset from the Allen Brain Atlas. You can also download the 'csv' file [here](https://celltypes.brain-map.org/data). For a description of the features, download the electrophysiology and morphology [documentation](https://community.brain-map.org/t/documentation-cell-types-database/2845).\n",
    "\n",
    "Go to `Example_files` > `estimation_stats_dabest` > `cell_types_specimen_details.csv`, download the file and paste it into the `Data_example` folder of the notebook after you create the paths. Alternatively, if you clone the repository, paste the `estimation_stats_dabest` into the new `Data_examples` directory. After that, you can run all the cells of the notebook. "
   ]
  },
  {
   "cell_type": "markdown",
   "id": "4182a9cd-d2ab-49d0-a45b-d12609f81517",
   "metadata": {},
   "source": [
    "# Import the libraries\n",
    "\n",
    "See the **[dabest](https://acclab.github.io/DABEST-python/) tutorial** for details. Note: Dabest works with both 'wide' and 'long' datasets. Read [here](https://en.wikipedia.org/wiki/Wide_and_narrow_data) the differences between the two types. When you use long datasets, you need to specify `x` and `y` columns.\n",
    "\n",
    "**Note**: Dabest might give errors if you use the latest `matplotlib` and `python` versions. For this notebook, I used `python=3.11`. \n",
    "\n",
    "Versions I used for this notebook: Pandas 1.5.3, NumPy 1.23.5, Matplotlib 3.6.3, DABEST 2024.03.29"
   ]
  },
  {
   "cell_type": "code",
   "execution_count": null,
   "id": "3a95b02a-7dbb-4ab9-b0c9-ddc63498aa99",
   "metadata": {},
   "outputs": [],
   "source": [
    "import pandas as pd\n",
    "import numpy as np\n",
    "import os\n",
    "import matplotlib.pyplot as plt\n",
    "\n",
    "import dabest\n",
    "\n",
    "# Optional: Display all columns in table\n",
    "pd.set_option('display.max_columns', None)"
   ]
  },
  {
   "cell_type": "markdown",
   "id": "dada6a80-9309-4837-b295-36ead9055506",
   "metadata": {},
   "source": [
    "# Create the paths"
   ]
  },
  {
   "cell_type": "code",
   "execution_count": null,
   "id": "d768c9f7-9455-4d0e-a59f-380f58ab7f45",
   "metadata": {},
   "outputs": [],
   "source": [
    "notebook_name = 'estimation_stats_dabest'\n",
    "\n",
    "# Data path to where you want to locate your folders\n",
    "data_path = os.getcwd()  # Default: current directory where the Jupyter notebook is located\n",
    "\n",
    "# Change the folder names accordingly\n",
    "paths = {'data': data_path,\n",
    "         'raw_data':  f'{data_path}/Data_examples/{notebook_name}/',\n",
    "         'processed_data': f'{data_path}/Processed_data_examples/{notebook_name}/',\n",
    "         'analysis': f'{data_path}/Analysis_examples/{notebook_name}/',         \n",
    "         'plots': f'{data_path}/Analysis_examples/{notebook_name}/Plots/'}\n",
    "\n",
    "# Make folders if they do not exist yet\n",
    "for path in paths.values():\n",
    "    os.makedirs(path, exist_ok=True)"
   ]
  },
  {
   "cell_type": "markdown",
   "id": "dd09e1a1-a70f-4d3f-a12b-b7b9cc5379a5",
   "metadata": {},
   "source": [
    "# Load the dataframe"
   ]
  },
  {
   "cell_type": "code",
   "execution_count": null,
   "id": "f8d3b6bb-a8b6-44ba-a384-341828eed904",
   "metadata": {},
   "outputs": [],
   "source": [
    "dataset = pd.read_csv(paths['raw_data'] + '/cell_types_specimen_details.csv')\n",
    "\n",
    "dataset"
   ]
  },
  {
   "cell_type": "markdown",
   "id": "fae141ee-f3b9-43a6-9321-a787146d32fc",
   "metadata": {},
   "source": [
    "## Filter the table\n",
    "\n",
    "Optional step."
   ]
  },
  {
   "cell_type": "code",
   "execution_count": null,
   "id": "abc43895-decf-44f5-b87c-a702f5363484",
   "metadata": {},
   "outputs": [],
   "source": [
    "dataset_filtered = dataset[(dataset['structure_parent__acronym'] == 'VISp'\n",
    "                           ) & (dataset['donor__species'] == 'Mus musculus')]\n",
    "dataset_filtered"
   ]
  },
  {
   "cell_type": "markdown",
   "id": "4feac7a7-1999-4b26-8cb6-2f1a8d762d01",
   "metadata": {},
   "source": [
    "## Summary statistics"
   ]
  },
  {
   "cell_type": "code",
   "execution_count": null,
   "id": "09b502ac-ce22-49f9-936a-15ef91dc26a0",
   "metadata": {},
   "outputs": [],
   "source": [
    "dataset_filtered[dataset_filtered['line_name'] == 'Pvalb-IRES-Cre'].describe()"
   ]
  },
  {
   "cell_type": "markdown",
   "id": "f03217bd-c41b-4a86-a973-bd668719eabe",
   "metadata": {},
   "source": [
    "# Dabest: unpaired data\n",
    "\n",
    "I show some examples for statistical analysis. See the links above and the 'Readme' for references on statistics. \n",
    "\n",
    "Documentation: [dabest load](https://acclab.github.io/DABEST-python-docs/api.html#dabest.load). \n",
    "\n",
    "- Unpaired Student’s t-test: `paired=None`\n",
    "- Paired Student’s t-test: `paired=baseline`\n",
    "\n",
    "Defaults: `dabest.load(data, idx=None, x=None, y=None, paired=None, id_col=None, ci=95, resamples=5000, random_seed=12345, proportional=False, delta2=False, experiment=None, experiment_label=None, x1_level=None, mini_meta=False)` "
   ]
  },
  {
   "cell_type": "code",
   "execution_count": null,
   "id": "2ad1509b-2107-4f8c-a9e5-b96cead382c1",
   "metadata": {},
   "outputs": [],
   "source": [
    "# Set the parameters for the comparisons\n",
    "feature = 'nr__number_bifurcations'\n",
    "groups = 'line_name'\n",
    "group_names = ('Vip-IRES-Cre', 'Pvalb-IRES-Cre')\n",
    "\n",
    "# Load the dataset\n",
    "unpaired_dabest = dabest.load(dataset_filtered, y=feature, x=groups, \n",
    "                              idx=group_names,\n",
    "                              paired=None)"
   ]
  },
  {
   "cell_type": "markdown",
   "id": "0cf9ccf1-5d62-40c9-99c8-d7c99e7dae42",
   "metadata": {},
   "source": [
    "## Mean differences: tests\n",
    "\n",
    "For unpaired comparisons, the p-values and test statistics of Welch’s t test, Student’s t test, and Mann-Whitney U test can be used. For paired comparisons, the p-values and test statistics of the paired Student’s t and Wilcoxon tests are presented.\n",
    "\n",
    "Note: bca (bias-corrected and accelerated confidence interval)"
   ]
  },
  {
   "cell_type": "code",
   "execution_count": null,
   "id": "be288e85-fac2-4b5e-9108-6aafb534c3e3",
   "metadata": {},
   "outputs": [],
   "source": [
    "unpaired_dabest.mean_diff"
   ]
  },
  {
   "cell_type": "code",
   "execution_count": null,
   "id": "d7f93930-f9bd-43f4-8f47-f3fa4d8b72a6",
   "metadata": {},
   "outputs": [],
   "source": [
    "stats_results = unpaired_dabest.mean_diff.statistical_tests\n",
    "\n",
    "# Save the results\n",
    "stats_results.to_csv(paths['analysis'] + feature + '_mean_diff_stats.csv')\n",
    "\n",
    "stats_results"
   ]
  },
  {
   "cell_type": "markdown",
   "id": "9e185b2a-2c1d-4a90-8391-5539ac5e3ddc",
   "metadata": {},
   "source": [
    "## Mean differences: plot\n",
    "\n",
    "More about plotting [here](https://acclab.github.io/DABEST-python/API/plotter.html)."
   ]
  },
  {
   "cell_type": "code",
   "execution_count": null,
   "id": "e1d516d6-332d-4ea0-90fd-96f2627a2d83",
   "metadata": {},
   "outputs": [],
   "source": [
    "# Gardner-Altman estimation plot\n",
    "mean_plot = unpaired_dabest.mean_diff.plot(color_col=\"structure__layer\",\n",
    "                                          fig_size=(7,5))\n",
    "\n",
    "mean_plot.savefig(paths['plots'] + feature + '_mean_diff_plot.png')"
   ]
  },
  {
   "cell_type": "code",
   "execution_count": null,
   "id": "e69b9e6b-6988-4431-b388-20a0861c4813",
   "metadata": {},
   "outputs": [],
   "source": [
    "# Cumming estimation plot (bootstrap effect sizes below)\n",
    "mean_plot = unpaired_dabest.mean_diff.plot(float_contrast=False,\n",
    "                                          raw_marker_size=5)"
   ]
  },
  {
   "cell_type": "markdown",
   "id": "c954608b-d414-4d15-a018-a17998a165e7",
   "metadata": {},
   "source": [
    "## Standarized effect size: tests\n",
    "\n",
    "Standarized effect sizes were created to compare effect sizes with different scales. One standarized effect size is **Cohen d**. Cohen d is the effect size divided by the standard deviation. Thus, it is similar to a z score. "
   ]
  },
  {
   "cell_type": "code",
   "execution_count": null,
   "id": "b778965a-3273-4f07-b4ce-c602c74b8b10",
   "metadata": {},
   "outputs": [],
   "source": [
    "unpaired_dabest.cohens_d.statistical_tests"
   ]
  },
  {
   "cell_type": "markdown",
   "id": "bff5ab5a-b8d8-40ff-b068-48adcb1e31a7",
   "metadata": {},
   "source": [
    "## Standarized effect size: plot"
   ]
  },
  {
   "cell_type": "code",
   "execution_count": null,
   "id": "3174b9ac-d900-4520-9876-a637714d7b34",
   "metadata": {},
   "outputs": [],
   "source": [
    "cohen_plot = unpaired_dabest.cohens_d.plot(fig_size=(7,5)) \n",
    "cohen_plot.savefig(paths['plots'] + feature + '_cohen_plot.png')"
   ]
  },
  {
   "cell_type": "markdown",
   "id": "59f0479d-825c-461c-82ba-fd8076997e2b",
   "metadata": {},
   "source": [
    "# Dabest: repeated measures\n",
    "\n",
    "- Multi-two-group estimation plot. Past a nested tuple `(a,b), (c, d)` to `idx`\n",
    "- Shared control plot. Default when there are more than 2 columns in `idx`"
   ]
  },
  {
   "cell_type": "code",
   "execution_count": null,
   "id": "9d322804-9e83-4b47-bec4-70ca07f0bad2",
   "metadata": {},
   "outputs": [],
   "source": [
    "# Set the feature to compare groups\n",
    "feature = 'nr__number_bifurcations'\n",
    "neuron_type = 'Pvalb-IRES-Cre'\n",
    "\n",
    "dataset_filtered_neuron = dataset_filtered[(dataset_filtered['line_name'] == neuron_type)]\n",
    "\n",
    "# Load the dataset\n",
    "repeated_measures_dabest = dabest.load(dataset_filtered_neuron, y=feature, x='structure__acronym', \n",
    "                                       idx=('VISp2/3', 'VISp4', 'VISp5', 'VISp6a'),\n",
    "                                       id_col='id',\n",
    "                                       paired=None)"
   ]
  },
  {
   "cell_type": "code",
   "execution_count": null,
   "id": "7c380b3e-a1e5-4333-84da-97a8ad1774a0",
   "metadata": {},
   "outputs": [],
   "source": [
    "stats_results = repeated_measures_dabest.mean_diff.statistical_tests\n",
    "\n",
    "stats_results.to_csv(paths['analysis'] + feature + '_repeated_measures_stats.csv')\n",
    "\n",
    "stats_results"
   ]
  },
  {
   "cell_type": "code",
   "execution_count": null,
   "id": "88574c6c-fe8c-462c-afc9-e60214f7c4a8",
   "metadata": {},
   "outputs": [],
   "source": [
    "# Change the plot visualization using the function parameters\n",
    "repeated_measures_plot = repeated_measures_dabest.mean_diff.plot(custom_palette=\"Set2\", \n",
    "                                                       raw_marker_size=4,  # data marker size\n",
    "                                                       # es_marker_size=8,  # effect plot marker size\n",
    "                                                       # swarm_ylim=(0, 40),  # data plot y-limits\n",
    "                                                       # contrast_ylim=(-10, 10),  # effect plot y-limits\n",
    "                                                      )\n",
    "\n",
    "repeated_measures_plot.savefig(paths['plots'] + feature + '_repeated_measures_plot.png')"
   ]
  },
  {
   "cell_type": "markdown",
   "id": "6ae1aa83-5f4b-4930-bcc1-54709aa96f66",
   "metadata": {},
   "source": [
    "# Dabest: delta-delta\n",
    "\n",
    "See [here](https://acclab.github.io/DABEST-python/) how to evaluate the effects of two interacting independent variables on a dependent variable. For example, the efficacy of a compound on wild-type and mutant animals."
   ]
  }
 ],
 "metadata": {
  "kernelspec": {
   "display_name": "Python 3",
   "language": "python",
   "name": "python3"
  },
  "language_info": {
   "codemirror_mode": {
    "name": "ipython",
    "version": 3
   },
   "file_extension": ".py",
   "mimetype": "text/x-python",
   "name": "python",
   "nbconvert_exporter": "python",
   "pygments_lexer": "ipython3",
   "version": "3.7.13"
  }
 },
 "nbformat": 4,
 "nbformat_minor": 5
}
